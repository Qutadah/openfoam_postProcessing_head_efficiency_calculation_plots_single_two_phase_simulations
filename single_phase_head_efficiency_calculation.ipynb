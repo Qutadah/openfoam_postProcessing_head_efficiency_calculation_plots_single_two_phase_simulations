{
  "nbformat": 4,
  "nbformat_minor": 0,
  "metadata": {
    "colab": {
      "name": "single-phase-head-efficiency-calculation.ipynb",
      "provenance": [],
      "collapsed_sections": [
        "x2iZAb2a-5Db",
        "2qGAlSsjvnts"
      ]
    },
    "kernelspec": {
      "display_name": "Python 3",
      "name": "python3"
    },
    "language_info": {
      "name": "python"
    }
  },
  "cells": [
    {
      "cell_type": "markdown",
      "source": [
        "##steps to calculate:\n",
        "\n",
        "#0- set N rpm\n",
        "#1- change Qw\n",
        "#2- change files\n",
        "#3- change skip rows value\n"
      ],
      "metadata": {
        "id": "yCv2SbDouhXG"
      }
    },
    {
      "cell_type": "markdown",
      "metadata": {
        "id": "Zfj8IY6gvrBZ"
      },
      "source": [
        "## Head from fieldValueDelta\n",
        "## Efficiency from forcesIncompressible"
      ]
    },
    {
      "cell_type": "code",
      "metadata": {
        "id": "VVK24CiU9hcL"
      },
      "source": [
        "import matplotlib.pyplot as plt\n",
        "import pandas as pd\n",
        "import sys\n",
        "import math\n",
        "import numpy as np\n",
        "import os"
      ],
      "execution_count": null,
      "outputs": []
    },
    {
      "cell_type": "code",
      "metadata": {
        "id": "yynAy_htBqB2",
        "colab": {
          "base_uri": "https://localhost:8080/"
        },
        "outputId": "0daddb00-e7ab-45e1-aa1f-44814d30642e"
      },
      "source": [
        "########################################## pressure difference einlesen und H berechnen\n",
        "\n",
        "n= 1450; rho= 997; g= 9.81; Qw= 102/3600     #pressure difference\n",
        "\n",
        "######################################################################################\n",
        "\n",
        "\n",
        "df1 = pd.read_csv('fieldValueDelta.dat', sep='\\t', skiprows=300, header=None)\n",
        "df1= df1.rename(columns={0:'time', 1:'del_p'})\n",
        "print(df1)\n",
        "#df1=df1.mean\n",
        "#del_p= df1['del_p'].mean\n",
        "del_p= df1['del_p'].mean(axis=0)\n",
        "#print(df1)\n",
        "print(del_p)\n",
        "h= del_p/g\n",
        "print('Head of the pump is: {:6f}'.format(h))\n",
        "\n",
        "\n",
        "########################## Create Dataframes from forces.dat #################################\n",
        "\n",
        "\n",
        "df = pd.read_csv('forces.dat', sep='\\t', skiprows=300, header=None)\n",
        "df = df.rename(columns={0:'time', 1:'bs'})\n",
        "def parse_col(row_iter):\n",
        "  row_iter=row_iter.replace(')) ((',',').replace(') (', ',').replace('))','').replace('((','').replace(' ',',').split(',')\n",
        "  return row_iter\n",
        "\n",
        "cols = ['f_pressure', 'f_viscous', 'f_porous', 'm_pressure', 'm_viscous', 'm_porous']\n",
        "df['bs'] = df['bs'].apply(lambda x : parse_col(x))\n",
        "data_df = df['bs'].apply(pd.Series)\n",
        "data_df= data_df.astype(np.float64)\n",
        "\n",
        "print(data_df)\n",
        "\n",
        "mean= np.mean(data_df)\n",
        "moment_yaxis= mean[10]+mean[13]\n",
        "\n",
        "###########################################\n",
        "\n",
        "omega= 2*math.pi*n/60\n",
        "Pu= rho * g * h * Qw\n",
        "print(Pu)\n",
        "P= moment_yaxis * omega\n",
        "eta= (Pu/P)* 100\n",
        "\n",
        "print('efficiency of the pump at flow rate {0:1f} m^3/h is {1:.3%}'.format(Qw*3600, eta/100))"
      ],
      "execution_count": null,
      "outputs": [
        {
          "output_type": "stream",
          "name": "stdout",
          "text": [
            "          time       del_p\n",
            "0     0.017069  110.131057\n",
            "1     0.017126  110.451068\n",
            "2     0.017184  109.146696\n",
            "3     0.017241  108.075318\n",
            "4     0.017299  107.895457\n",
            "...        ...         ...\n",
            "2593  0.166092   98.268452\n",
            "2594  0.166149   98.631022\n",
            "2595  0.166207   98.715714\n",
            "2596  0.166264   99.874408\n",
            "2597  0.166322  100.453703\n",
            "\n",
            "[2598 rows x 2 columns]\n",
            "95.54440625962248\n",
            "Head of the pump is: 9.739491\n",
            "              0           1           2         3   ...        14   15   16   17\n",
            "0     174.512356  88104.8909 -259.308493 -0.467855  ...  0.279146  0.0  0.0  0.0\n",
            "1     173.354037  88101.8990 -262.304626 -0.465995  ...  0.278264  0.0  0.0  0.0\n",
            "2     172.728351  88098.5295 -265.187648 -0.464393  ...  0.277510  0.0  0.0  0.0\n",
            "3     171.596122  88094.2409 -267.834624 -0.463040  ...  0.276878  0.0  0.0  0.0\n",
            "4     170.455109  88090.1311 -270.121972 -0.461986  ...  0.276397  0.0  0.0  0.0\n",
            "...          ...         ...         ...       ...  ...       ...  ...  ...  ...\n",
            "2592  223.635367  88139.9205 -252.888312 -1.052690  ...  0.597150  0.0  0.0  0.0\n",
            "2593  222.802151  88136.6550 -251.727028 -1.053579  ...  0.597552  0.0  0.0  0.0\n",
            "2594  221.022663  88133.5819 -250.726820 -1.054187  ...  0.597810  0.0  0.0  0.0\n",
            "2595  219.919995  88129.7262 -249.443835 -1.054453  ...  0.597891  0.0  0.0  0.0\n",
            "2596  219.120636  88126.0353 -248.379120 -1.054338  ...  0.597772  0.0  0.0  0.0\n",
            "\n",
            "[2597 rows x 18 columns]\n",
            "2698.9702361572354\n",
            "efficiency of the pump at flow rate 102.000000 m^3/h is 39.552%\n"
          ]
        }
      ]
    },
    {
      "cell_type": "markdown",
      "source": [
        "##EOF"
      ],
      "metadata": {
        "id": "x2iZAb2a-5Db"
      }
    },
    {
      "cell_type": "code",
      "metadata": {
        "id": "Xa0Ms0I2sLK0",
        "colab": {
          "base_uri": "https://localhost:8080/"
        },
        "outputId": "e5581a5e-5172-4d10-cce2-e5507eb6b14f"
      },
      "source": [
        "data= pd.read_csv('table-eta_head.txt', sep=',')\n",
        "\n",
        "data = pd.DataFrame(data)\n",
        "print(data)"
      ],
      "execution_count": null,
      "outputs": [
        {
          "output_type": "stream",
          "name": "stdout",
          "text": [
            "   head        eta\n",
            "0    34  19.274717\n",
            "1    68  16.789000\n",
            "2   102  12.185664\n",
            "3   120  10.000000\n"
          ]
        }
      ]
    },
    {
      "cell_type": "code",
      "metadata": {
        "colab": {
          "base_uri": "https://localhost:8080/"
        },
        "id": "xtDmnIw4WvJE",
        "outputId": "5e9431ed-8f70-4612-d617-a42c4b853deb"
      },
      "source": [
        "data.columns"
      ],
      "execution_count": null,
      "outputs": [
        {
          "output_type": "execute_result",
          "data": {
            "text/plain": [
              "Index(['head', 'eta'], dtype='object')"
            ]
          },
          "metadata": {},
          "execution_count": 6
        }
      ]
    },
    {
      "cell_type": "code",
      "metadata": {
        "colab": {
          "base_uri": "https://localhost:8080/",
          "height": 592
        },
        "id": "mihA4yx-WgxI",
        "outputId": "3d84ef64-47a2-4a5b-a6b4-afd2842c79d8"
      },
      "source": [
        "x=data['head']\n",
        "y=data['eta']\n",
        "\n",
        "fig= plt.figure(figsize= (10,10))\n",
        "\n",
        "\n",
        "plt.plot(x,y,'-gD', label='line with select markers', color='green')\n",
        "\n",
        "tikzplotlib.save('figure.tex')\n",
        "plt.show()"
      ],
      "execution_count": null,
      "outputs": [
        {
          "output_type": "display_data",
          "data": {
            "image/png": "[encoded data removed]",
            "text/plain": [
              "<Figure size 720x720 with 1 Axes>"
            ]
          },
          "metadata": {
            "needs_background": "light"
          }
        }
      ]
    },
    {
      "cell_type": "code",
      "metadata": {
        "colab": {
          "base_uri": "https://localhost:8080/",
          "height": 209
        },
        "id": "UzY5s73tH4Uo",
        "outputId": "143c73b0-a26e-40a8-fce8-8ef5587f5aaf"
      },
      "source": [
        "data = loadtxt(\"forces_processed.dat\", float)   #change to txt file\n",
        "plot(data[:,0],data[:,1])\n",
        "show()"
      ],
      "execution_count": null,
      "outputs": [
        {
          "output_type": "error",
          "ename": "NameError",
          "evalue": "ignored",
          "traceback": [
            "\u001b[0;31m---------------------------------------------------------------------------\u001b[0m",
            "\u001b[0;31mNameError\u001b[0m                                 Traceback (most recent call last)",
            "\u001b[0;32m<ipython-input-6-f70bb95e13f7>\u001b[0m in \u001b[0;36m<module>\u001b[0;34m()\u001b[0m\n\u001b[0;32m----> 1\u001b[0;31m \u001b[0mdata\u001b[0m \u001b[0;34m=\u001b[0m \u001b[0mloadtxt\u001b[0m\u001b[0;34m(\u001b[0m\u001b[0;34m\"forces_processed.dat\"\u001b[0m\u001b[0;34m,\u001b[0m \u001b[0mfloat\u001b[0m\u001b[0;34m)\u001b[0m   \u001b[0;31m#change to txt file\u001b[0m\u001b[0;34m\u001b[0m\u001b[0;34m\u001b[0m\u001b[0m\n\u001b[0m\u001b[1;32m      2\u001b[0m \u001b[0mplot\u001b[0m\u001b[0;34m(\u001b[0m\u001b[0mdata\u001b[0m\u001b[0;34m[\u001b[0m\u001b[0;34m:\u001b[0m\u001b[0;34m,\u001b[0m\u001b[0;36m0\u001b[0m\u001b[0;34m]\u001b[0m\u001b[0;34m,\u001b[0m\u001b[0mdata\u001b[0m\u001b[0;34m[\u001b[0m\u001b[0;34m:\u001b[0m\u001b[0;34m,\u001b[0m\u001b[0;36m1\u001b[0m\u001b[0;34m]\u001b[0m\u001b[0;34m)\u001b[0m\u001b[0;34m\u001b[0m\u001b[0;34m\u001b[0m\u001b[0m\n\u001b[1;32m      3\u001b[0m \u001b[0mshow\u001b[0m\u001b[0;34m(\u001b[0m\u001b[0;34m)\u001b[0m\u001b[0;34m\u001b[0m\u001b[0;34m\u001b[0m\u001b[0m\n",
            "\u001b[0;31mNameError\u001b[0m: name 'loadtxt' is not defined"
          ]
        }
      ]
    },
    {
      "cell_type": "code",
      "metadata": {
        "id": "EOWXne3ZwNvG"
      },
      "source": [
        "forces_files= [forces_Qw34.dat, forces_Qw68.dat, forces_Qw102.dat]\n",
        "for i in forces_log:\n",
        "  #code below\n",
        "  with open(str(i), 'r') as file:\n",
        "    filedata=file.read()\n",
        "##..... and all the code...\n"
      ],
      "execution_count": null,
      "outputs": []
    },
    {
      "cell_type": "markdown",
      "metadata": {
        "id": "LRIKE3fBvjFL"
      },
      "source": [
        "#run this script for all log files in all Qw= 34, 68, 102, and plot them in a graph gnuplot"
      ]
    },
    {
      "cell_type": "markdown",
      "metadata": {
        "id": "2qGAlSsjvnts"
      },
      "source": [
        "#END OF CODE"
      ]
    },
    {
      "cell_type": "code",
      "metadata": {
        "id": "c_9rVwTS-IBO"
      },
      "source": [
        "data = np.genfromtxt('forces(copy).dat',\n",
        "                     skip_header=4,\n",
        "                     #skip_footer=0,\n",
        "                     names=True,\n",
        "                     dtype=float,\n",
        "                     delimiter=' ')\n",
        "print(data)\n",
        "a=data\n",
        "# Output: [(1, 4, 6, 8, 3) (4, 5, 6, 8, 9) (2, 3, 6, 8, 5)]"
      ],
      "execution_count": null,
      "outputs": []
    },
    {
      "cell_type": "code",
      "metadata": {
        "id": "ZYD8s6IoVZwS"
      },
      "source": [
        "summe= data[:,12]"
      ],
      "execution_count": null,
      "outputs": []
    },
    {
      "cell_type": "code",
      "metadata": {
        "id": "q4vzldn_KBLE"
      },
      "source": [
        "summe = data[:,0]+data[:,2]"
      ],
      "execution_count": null,
      "outputs": []
    },
    {
      "cell_type": "code",
      "metadata": {
        "id": "tZRESunBTyJx"
      },
      "source": [
        "x_data = np.log(data[:,0]) # here we are logging over the whole n-dimensional array\n",
        "y_data = np.log(data[:,1])\n",
        "\n",
        "plot(x_data, y_data)\n",
        "show()"
      ],
      "execution_count": null,
      "outputs": []
    },
    {
      "cell_type": "code",
      "metadata": {
        "id": "0ASET79kE5ER"
      },
      "source": [
        "type(data)\n",
        "n=1450\n",
        "omega=2*math.pi*n*60\n",
        "print(omega)"
      ],
      "execution_count": null,
      "outputs": []
    },
    {
      "cell_type": "code",
      "metadata": {
        "id": "cSCiCnWeRBHa"
      },
      "source": [
        "b=np.sum(data, out= data, axis=0)  "
      ],
      "execution_count": null,
      "outputs": []
    },
    {
      "cell_type": "code",
      "metadata": {
        "id": "ym3CqUaIQFDF"
      },
      "source": [
        "column_sums = data.sum(axis=0)"
      ],
      "execution_count": null,
      "outputs": []
    },
    {
      "cell_type": "code",
      "metadata": {
        "id": "hZg8Fmt-HD0A"
      },
      "source": [
        "leistung= moment* omega"
      ],
      "execution_count": null,
      "outputs": []
    },
    {
      "cell_type": "code",
      "metadata": {
        "id": "-n7HRMbfWu9Z"
      },
      "source": [
        "import os\n",
        "rootdir = '~/Scripts'\n",
        "\n",
        "for subdir, dirs, files in os.walk(rootdir):\n",
        "    for file in files:\n",
        "        print os.path.join(subdir, file)"
      ],
      "execution_count": null,
      "outputs": []
    }
  ]
}